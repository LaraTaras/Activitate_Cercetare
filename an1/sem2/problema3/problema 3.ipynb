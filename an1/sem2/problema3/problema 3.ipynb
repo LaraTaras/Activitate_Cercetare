{
 "cells": [
  {
   "cell_type": "markdown",
   "id": "e1ae232f",
   "metadata": {},
   "source": [
    "# Antrenarea U-Net\n",
    "\n",
    "### Import:"
   ]
  },
  {
   "cell_type": "code",
   "execution_count": 1,
   "id": "125d8df8",
   "metadata": {},
   "outputs": [],
   "source": [
    "import os   \n",
    "import numpy as np    # pentru a se putea utiliza funcționalități pe imagini\n",
    "import cv2            #read, resize and write images\n",
    "from glob import glob # extract file based on a specific pattern\n",
    "import tensorflow as tf\n",
    "from tensorflow.keras.layers import Conv2D, BatchNormalization, Activation, MaxPool2D, Conv2DTranspose, Concatenate\n",
    "from tensorflow.keras.models import Model\n",
    "from tensorflow.keras.callbacks import EarlyStopping, ModelCheckpoint, ReduceLROnPlateau, CSVLogger\n",
    "from keras.layers import Input"
   ]
  },
  {
   "cell_type": "markdown",
   "id": "d36341a6",
   "metadata": {},
   "source": [
    "### Pentru sedimentare (seeding): "
   ]
  },
  {
   "cell_type": "code",
   "execution_count": 2,
   "id": "e57d5e46",
   "metadata": {},
   "outputs": [],
   "source": [
    "os.environ[\"PYTHONHASHSEED\"] = str(42)\n",
    "np.random.seed(42)\n",
    "tf.random.set_seed(42)"
   ]
  },
  {
   "cell_type": "markdown",
   "id": "3b037cd9",
   "metadata": {},
   "source": [
    "### Setarea Hiperparametrilor"
   ]
  },
  {
   "cell_type": "code",
   "execution_count": 3,
   "id": "fe7514ad",
   "metadata": {},
   "outputs": [],
   "source": [
    "batch_size = 8  # deoarece am 8gb de memorie\n",
    "lr = 1e-4    #learning rate\n",
    "epochs = 100\n",
    "height = 768\n",
    "width = 512\n"
   ]
  },
  {
   "cell_type": "markdown",
   "id": "47b7b50f",
   "metadata": {},
   "source": [
    "### Calea (Path):"
   ]
  },
  {
   "cell_type": "code",
   "execution_count": 4,
   "id": "73a5f65c",
   "metadata": {},
   "outputs": [],
   "source": [
    "dataset_path = os.path.join(\"dataset\", \"non-aug\")\n",
    "\n",
    "files_dir = os.path.join(\"files\", \"non-aug\")\n",
    "model_file = os.path.join(files_dir, \"unet-non-aug.h5\")\n",
    "log_file = os.path.join(files_dir, \"log-non-aug.csv\")"
   ]
  },
  {
   "cell_type": "markdown",
   "id": "9efcfef3",
   "metadata": {},
   "source": [
    "### Crearea Fișierelor"
   ]
  },
  {
   "cell_type": "code",
   "execution_count": 5,
   "id": "251abbfa",
   "metadata": {},
   "outputs": [],
   "source": [
    "def create_dir(path):\n",
    "    if not os.path.exists(path):\n",
    "        os.makedirs(path)"
   ]
  },
  {
   "cell_type": "code",
   "execution_count": 6,
   "id": "ed14f57d",
   "metadata": {},
   "outputs": [],
   "source": [
    "create_dir(files_dir)"
   ]
  },
  {
   "cell_type": "markdown",
   "id": "0b3cc7bc",
   "metadata": {},
   "source": [
    "### Construirea U-Net"
   ]
  },
  {
   "cell_type": "markdown",
   "id": "5649cc70",
   "metadata": {},
   "source": [
    "#### Construirea blocului de convoluție"
   ]
  },
  {
   "cell_type": "code",
   "execution_count": 20,
   "id": "eaa1a024",
   "metadata": {},
   "outputs": [],
   "source": [
    "def conv_block(inputs, num_filters):\n",
    "    x = Conv2D(num_filters, 3, padding=\"same\")(inputs)\n",
    "    x = BatchNormalization()(x)\n",
    "    x = Activation(\"relu\")(x)\n",
    "    \n",
    "    x = Conv2D(num_filters, 3, padding=\"same\")(x)\n",
    "    x = BatchNormalization()(x)\n",
    "    x = Activation(\"relu\")(x)\n",
    "    \n",
    "    return x"
   ]
  },
  {
   "cell_type": "markdown",
   "id": "683bf6df",
   "metadata": {},
   "source": [
    "#### Construirea blocului encoder"
   ]
  },
  {
   "cell_type": "code",
   "execution_count": 8,
   "id": "7c3796f1",
   "metadata": {},
   "outputs": [],
   "source": [
    "def encoder_block(inputs, num_filters):\n",
    "    x = conv_block(inputs, num_filters)\n",
    "    p = MaxPool2D((2, 2))(x)\n",
    "    \n",
    "    return x, p"
   ]
  },
  {
   "cell_type": "markdown",
   "id": "6a4317f7",
   "metadata": {},
   "source": [
    "#### Construirea blocului decoder"
   ]
  },
  {
   "cell_type": "code",
   "execution_count": 9,
   "id": "23093815",
   "metadata": {},
   "outputs": [],
   "source": [
    "def decoder_block(inputs, skip, num_filters):\n",
    "    x = Conv2DTranspose(num_filters, (2, 2), strides=2, padding=\"same\")(inputs)\n",
    "    x = Concatenate()([x, skip])\n",
    "    x = conv_block(x, num_filters)\n",
    "    return x"
   ]
  },
  {
   "cell_type": "markdown",
   "id": "ec3545cb",
   "metadata": {},
   "source": [
    "#### UNET"
   ]
  },
  {
   "cell_type": "code",
   "execution_count": 10,
   "id": "d6552409",
   "metadata": {},
   "outputs": [],
   "source": [
    "def build_unet(input_shape):\n",
    "    inputs = Input(input_shape)\n",
    "    \n",
    "    \"\"\" Encoder \"\"\"\n",
    "    \n",
    "    s1, p1 = encoder_block(inputs, 64)\n",
    "    s2, p2 = encoder_block(p1, 128)\n",
    "    s3, p3 = encoder_block(p2, 256)\n",
    "    s4, p4 = encoder_block(p3, 512)\n",
    "    \n",
    "    \"\"\" Bridge \"\"\"\n",
    "    \n",
    "    b1 = conv_block(p4, 1024)\n",
    "    \n",
    "    \"\"\" Decoder \"\"\"\n",
    "    \n",
    "    d1 = decoder_block(b1, s4, 512)\n",
    "    d2 = decoder_block(d1, s3, 256)\n",
    "    d3 = decoder_block(d2, s2, 128)\n",
    "    d4 = decoder_block(d3, s1, 64)\n",
    "    \n",
    "    outputs = Conv2D(1, 1, padding=\"same\", activation=\"sigmoid\")(d4)\n",
    "    \n",
    "    model = Model(inputs, outputs, name=\"UNET\")\n",
    "    \n",
    "    return model\n"
   ]
  },
  {
   "cell_type": "markdown",
   "id": "5050315b",
   "metadata": {},
   "source": [
    "### Dataset Pipeline"
   ]
  },
  {
   "cell_type": "markdown",
   "id": "3110a0e9",
   "metadata": {},
   "source": [
    "#### încărcarea setului de date de antrenare și validare:"
   ]
  },
  {
   "cell_type": "code",
   "execution_count": 11,
   "id": "74df580a",
   "metadata": {},
   "outputs": [],
   "source": [
    "def load_data(path):\n",
    "    train_x = sorted(glob(os.path.join(path, \"train\", \"images\", \"*\")))\n",
    "    train_y = sorted(glob(os.path.join(path, \"train\", \"masks\", \"*\")))\n",
    "    \n",
    "    valid_x = sorted(glob(os.path.join(path, \"valid\", \"images\", \"*\")))\n",
    "    valid_y = sorted(glob(os.path.join(path, \"valid\", \"masks\", \"*\")))\n",
    "    \n",
    "    return (train_x, train_y), (valid_x, valid_y)\n"
   ]
  },
  {
   "cell_type": "markdown",
   "id": "98598696",
   "metadata": {},
   "source": [
    "#### Citirea imaginilor:"
   ]
  },
  {
   "cell_type": "code",
   "execution_count": 12,
   "id": "5d476e2d",
   "metadata": {},
   "outputs": [],
   "source": [
    "def read_image(path):\n",
    "    path = path.decode()\n",
    "    x = cv2.imread(path, cv2.IMREAD_COLOR)\n",
    "    x = x/255.0\n",
    "    return x"
   ]
  },
  {
   "cell_type": "markdown",
   "id": "b00701b0",
   "metadata": {},
   "source": [
    "#### Citirea măștilor:"
   ]
  },
  {
   "cell_type": "code",
   "execution_count": 13,
   "id": "f45f950c",
   "metadata": {},
   "outputs": [],
   "source": [
    "def read_mask(path):\n",
    "    path = path.decode()\n",
    "    x = cv2.imread(path, cv2.IMREAD_GRAYSCALE)\n",
    "    x = x/255.0\n",
    "    x = np.expand_dims(x, axis=-1)\n",
    "    return x\n"
   ]
  },
  {
   "cell_type": "markdown",
   "id": "03986a0c",
   "metadata": {},
   "source": [
    "#### tf.data Pipeline"
   ]
  },
  {
   "cell_type": "code",
   "execution_count": 14,
   "id": "b2b6d6ea",
   "metadata": {},
   "outputs": [],
   "source": [
    "def tf_parse(x, y):\n",
    "    def _parse(x, y):\n",
    "        x = read_image(x)\n",
    "        y = read_mask(y)\n",
    "        return x, y \n",
    "    \n",
    "    x, y = tf.numpy_function(_parse, [x, y], [tf.float64, tf.float64])\n",
    "    x.set_shape([height, width, 3])\n",
    "    y.set_shape([height, width, 1])\n",
    "    \n",
    "    return x, y"
   ]
  },
  {
   "cell_type": "code",
   "execution_count": 15,
   "id": "8cf3f4d6",
   "metadata": {},
   "outputs": [],
   "source": [
    "def tf_dataset(x, y, batch=8):\n",
    "    dataset = tf.data.Dataset.from_tensor_slices((x, y))\n",
    "    dataset = dataset.map(tf_parse, num_parallel_calls=tf.data.AUTOTUNE)\n",
    "    dataset = dataset.batch(batch)\n",
    "    dataset = dataset.prefetch(tf.data.AUTOTUNE)\n",
    "    return dataset"
   ]
  },
  {
   "cell_type": "markdown",
   "id": "1c38651f",
   "metadata": {},
   "source": [
    "### Antrenarea:"
   ]
  },
  {
   "cell_type": "code",
   "execution_count": 16,
   "id": "fa975c8f",
   "metadata": {},
   "outputs": [
    {
     "name": "stdout",
     "output_type": "stream",
     "text": [
      "Train: 60 - 60\n",
      "Valid: 20 - 20\n"
     ]
    }
   ],
   "source": [
    "(train_x, train_y), (valid_x, valid_y) = load_data(dataset_path)\n",
    "print(f\"Train: {len(train_x)} - {len(train_y)}\")\n",
    "print(f\"Valid: {len(valid_x)} - {len(valid_y)}\")"
   ]
  },
  {
   "cell_type": "code",
   "execution_count": 17,
   "id": "d29705c8",
   "metadata": {},
   "outputs": [],
   "source": [
    "train_dataset = tf_dataset(train_x, train_y, batch=batch_size)\n",
    "valid_dataset = tf_dataset(valid_x, valid_y, batch=batch_size)"
   ]
  },
  {
   "cell_type": "code",
   "execution_count": 18,
   "id": "a8db0e73",
   "metadata": {},
   "outputs": [
    {
     "name": "stdout",
     "output_type": "stream",
     "text": [
      "(8, 768, 512, 3) (8, 768, 512, 1)\n",
      "(8, 768, 512, 3) (8, 768, 512, 1)\n",
      "(4, 768, 512, 3) (4, 768, 512, 1)\n"
     ]
    }
   ],
   "source": [
    "for x, y in valid_dataset:\n",
    "    print(x.shape, y.shape)"
   ]
  },
  {
   "cell_type": "code",
   "execution_count": 21,
   "id": "4a63f079",
   "metadata": {},
   "outputs": [],
   "source": [
    "input_shape = (height, width, 3)\n",
    "model = build_unet(input_shape)"
   ]
  },
  {
   "cell_type": "code",
   "execution_count": 22,
   "id": "6a089bcb",
   "metadata": {},
   "outputs": [
    {
     "name": "stdout",
     "output_type": "stream",
     "text": [
      "Model: \"UNET\"\n",
      "__________________________________________________________________________________________________\n",
      " Layer (type)                Output Shape                 Param #   Connected to                  \n",
      "==================================================================================================\n",
      " input_2 (InputLayer)        [(None, 768, 512, 3)]        0         []                            \n",
      "                                                                                                  \n",
      " conv2d_1 (Conv2D)           (None, 768, 512, 64)         1792      ['input_2[0][0]']             \n",
      "                                                                                                  \n",
      " batch_normalization_1 (Bat  (None, 768, 512, 64)         256       ['conv2d_1[0][0]']            \n",
      " chNormalization)                                                                                 \n",
      "                                                                                                  \n",
      " activation_1 (Activation)   (None, 768, 512, 64)         0         ['batch_normalization_1[0][0]'\n",
      "                                                                    ]                             \n",
      "                                                                                                  \n",
      " conv2d_2 (Conv2D)           (None, 768, 512, 64)         36928     ['activation_1[0][0]']        \n",
      "                                                                                                  \n",
      " batch_normalization_2 (Bat  (None, 768, 512, 64)         256       ['conv2d_2[0][0]']            \n",
      " chNormalization)                                                                                 \n",
      "                                                                                                  \n",
      " activation_2 (Activation)   (None, 768, 512, 64)         0         ['batch_normalization_2[0][0]'\n",
      "                                                                    ]                             \n",
      "                                                                                                  \n",
      " max_pooling2d (MaxPooling2  (None, 384, 256, 64)         0         ['activation_2[0][0]']        \n",
      " D)                                                                                               \n",
      "                                                                                                  \n",
      " conv2d_3 (Conv2D)           (None, 384, 256, 128)        73856     ['max_pooling2d[0][0]']       \n",
      "                                                                                                  \n",
      " batch_normalization_3 (Bat  (None, 384, 256, 128)        512       ['conv2d_3[0][0]']            \n",
      " chNormalization)                                                                                 \n",
      "                                                                                                  \n",
      " activation_3 (Activation)   (None, 384, 256, 128)        0         ['batch_normalization_3[0][0]'\n",
      "                                                                    ]                             \n",
      "                                                                                                  \n",
      " conv2d_4 (Conv2D)           (None, 384, 256, 128)        147584    ['activation_3[0][0]']        \n",
      "                                                                                                  \n",
      " batch_normalization_4 (Bat  (None, 384, 256, 128)        512       ['conv2d_4[0][0]']            \n",
      " chNormalization)                                                                                 \n",
      "                                                                                                  \n",
      " activation_4 (Activation)   (None, 384, 256, 128)        0         ['batch_normalization_4[0][0]'\n",
      "                                                                    ]                             \n",
      "                                                                                                  \n",
      " max_pooling2d_1 (MaxPoolin  (None, 192, 128, 128)        0         ['activation_4[0][0]']        \n",
      " g2D)                                                                                             \n",
      "                                                                                                  \n",
      " conv2d_5 (Conv2D)           (None, 192, 128, 256)        295168    ['max_pooling2d_1[0][0]']     \n",
      "                                                                                                  \n",
      " batch_normalization_5 (Bat  (None, 192, 128, 256)        1024      ['conv2d_5[0][0]']            \n",
      " chNormalization)                                                                                 \n",
      "                                                                                                  \n",
      " activation_5 (Activation)   (None, 192, 128, 256)        0         ['batch_normalization_5[0][0]'\n",
      "                                                                    ]                             \n",
      "                                                                                                  \n",
      " conv2d_6 (Conv2D)           (None, 192, 128, 256)        590080    ['activation_5[0][0]']        \n",
      "                                                                                                  \n",
      " batch_normalization_6 (Bat  (None, 192, 128, 256)        1024      ['conv2d_6[0][0]']            \n",
      " chNormalization)                                                                                 \n",
      "                                                                                                  \n",
      " activation_6 (Activation)   (None, 192, 128, 256)        0         ['batch_normalization_6[0][0]'\n",
      "                                                                    ]                             \n",
      "                                                                                                  \n",
      " max_pooling2d_2 (MaxPoolin  (None, 96, 64, 256)          0         ['activation_6[0][0]']        \n",
      " g2D)                                                                                             \n",
      "                                                                                                  \n",
      " conv2d_7 (Conv2D)           (None, 96, 64, 512)          1180160   ['max_pooling2d_2[0][0]']     \n",
      "                                                                                                  \n",
      " batch_normalization_7 (Bat  (None, 96, 64, 512)          2048      ['conv2d_7[0][0]']            \n",
      " chNormalization)                                                                                 \n",
      "                                                                                                  \n",
      " activation_7 (Activation)   (None, 96, 64, 512)          0         ['batch_normalization_7[0][0]'\n",
      "                                                                    ]                             \n",
      "                                                                                                  \n",
      " conv2d_8 (Conv2D)           (None, 96, 64, 512)          2359808   ['activation_7[0][0]']        \n",
      "                                                                                                  \n",
      " batch_normalization_8 (Bat  (None, 96, 64, 512)          2048      ['conv2d_8[0][0]']            \n",
      " chNormalization)                                                                                 \n",
      "                                                                                                  \n",
      " activation_8 (Activation)   (None, 96, 64, 512)          0         ['batch_normalization_8[0][0]'\n",
      "                                                                    ]                             \n",
      "                                                                                                  \n",
      " max_pooling2d_3 (MaxPoolin  (None, 48, 32, 512)          0         ['activation_8[0][0]']        \n",
      " g2D)                                                                                             \n",
      "                                                                                                  \n",
      " conv2d_9 (Conv2D)           (None, 48, 32, 1024)         4719616   ['max_pooling2d_3[0][0]']     \n",
      "                                                                                                  \n"
     ]
    },
    {
     "name": "stdout",
     "output_type": "stream",
     "text": [
      " batch_normalization_9 (Bat  (None, 48, 32, 1024)         4096      ['conv2d_9[0][0]']            \n",
      " chNormalization)                                                                                 \n",
      "                                                                                                  \n",
      " activation_9 (Activation)   (None, 48, 32, 1024)         0         ['batch_normalization_9[0][0]'\n",
      "                                                                    ]                             \n",
      "                                                                                                  \n",
      " conv2d_10 (Conv2D)          (None, 48, 32, 1024)         9438208   ['activation_9[0][0]']        \n",
      "                                                                                                  \n",
      " batch_normalization_10 (Ba  (None, 48, 32, 1024)         4096      ['conv2d_10[0][0]']           \n",
      " tchNormalization)                                                                                \n",
      "                                                                                                  \n",
      " activation_10 (Activation)  (None, 48, 32, 1024)         0         ['batch_normalization_10[0][0]\n",
      "                                                                    ']                            \n",
      "                                                                                                  \n",
      " conv2d_transpose (Conv2DTr  (None, 96, 64, 512)          2097664   ['activation_10[0][0]']       \n",
      " anspose)                                                                                         \n",
      "                                                                                                  \n",
      " concatenate (Concatenate)   (None, 96, 64, 1024)         0         ['conv2d_transpose[0][0]',    \n",
      "                                                                     'activation_8[0][0]']        \n",
      "                                                                                                  \n",
      " conv2d_11 (Conv2D)          (None, 96, 64, 512)          4719104   ['concatenate[0][0]']         \n",
      "                                                                                                  \n",
      " batch_normalization_11 (Ba  (None, 96, 64, 512)          2048      ['conv2d_11[0][0]']           \n",
      " tchNormalization)                                                                                \n",
      "                                                                                                  \n",
      " activation_11 (Activation)  (None, 96, 64, 512)          0         ['batch_normalization_11[0][0]\n",
      "                                                                    ']                            \n",
      "                                                                                                  \n",
      " conv2d_12 (Conv2D)          (None, 96, 64, 512)          2359808   ['activation_11[0][0]']       \n",
      "                                                                                                  \n",
      " batch_normalization_12 (Ba  (None, 96, 64, 512)          2048      ['conv2d_12[0][0]']           \n",
      " tchNormalization)                                                                                \n",
      "                                                                                                  \n",
      " activation_12 (Activation)  (None, 96, 64, 512)          0         ['batch_normalization_12[0][0]\n",
      "                                                                    ']                            \n",
      "                                                                                                  \n",
      " conv2d_transpose_1 (Conv2D  (None, 192, 128, 256)        524544    ['activation_12[0][0]']       \n",
      " Transpose)                                                                                       \n",
      "                                                                                                  \n",
      " concatenate_1 (Concatenate  (None, 192, 128, 512)        0         ['conv2d_transpose_1[0][0]',  \n",
      " )                                                                   'activation_6[0][0]']        \n",
      "                                                                                                  \n",
      " conv2d_13 (Conv2D)          (None, 192, 128, 256)        1179904   ['concatenate_1[0][0]']       \n",
      "                                                                                                  \n",
      " batch_normalization_13 (Ba  (None, 192, 128, 256)        1024      ['conv2d_13[0][0]']           \n",
      " tchNormalization)                                                                                \n",
      "                                                                                                  \n",
      " activation_13 (Activation)  (None, 192, 128, 256)        0         ['batch_normalization_13[0][0]\n",
      "                                                                    ']                            \n",
      "                                                                                                  \n",
      " conv2d_14 (Conv2D)          (None, 192, 128, 256)        590080    ['activation_13[0][0]']       \n",
      "                                                                                                  \n",
      " batch_normalization_14 (Ba  (None, 192, 128, 256)        1024      ['conv2d_14[0][0]']           \n",
      " tchNormalization)                                                                                \n",
      "                                                                                                  \n",
      " activation_14 (Activation)  (None, 192, 128, 256)        0         ['batch_normalization_14[0][0]\n",
      "                                                                    ']                            \n",
      "                                                                                                  \n",
      " conv2d_transpose_2 (Conv2D  (None, 384, 256, 128)        131200    ['activation_14[0][0]']       \n",
      " Transpose)                                                                                       \n",
      "                                                                                                  \n",
      " concatenate_2 (Concatenate  (None, 384, 256, 256)        0         ['conv2d_transpose_2[0][0]',  \n",
      " )                                                                   'activation_4[0][0]']        \n",
      "                                                                                                  \n",
      " conv2d_15 (Conv2D)          (None, 384, 256, 128)        295040    ['concatenate_2[0][0]']       \n",
      "                                                                                                  \n",
      " batch_normalization_15 (Ba  (None, 384, 256, 128)        512       ['conv2d_15[0][0]']           \n",
      " tchNormalization)                                                                                \n",
      "                                                                                                  \n",
      " activation_15 (Activation)  (None, 384, 256, 128)        0         ['batch_normalization_15[0][0]\n",
      "                                                                    ']                            \n",
      "                                                                                                  \n",
      " conv2d_16 (Conv2D)          (None, 384, 256, 128)        147584    ['activation_15[0][0]']       \n",
      "                                                                                                  \n",
      " batch_normalization_16 (Ba  (None, 384, 256, 128)        512       ['conv2d_16[0][0]']           \n",
      " tchNormalization)                                                                                \n",
      "                                                                                                  \n",
      " activation_16 (Activation)  (None, 384, 256, 128)        0         ['batch_normalization_16[0][0]\n",
      "                                                                    ']                            \n",
      "                                                                                                  \n",
      " conv2d_transpose_3 (Conv2D  (None, 768, 512, 64)         32832     ['activation_16[0][0]']       \n",
      " Transpose)                                                                                       \n",
      "                                                                                                  \n"
     ]
    },
    {
     "name": "stdout",
     "output_type": "stream",
     "text": [
      " concatenate_3 (Concatenate  (None, 768, 512, 128)        0         ['conv2d_transpose_3[0][0]',  \n",
      " )                                                                   'activation_2[0][0]']        \n",
      "                                                                                                  \n",
      " conv2d_17 (Conv2D)          (None, 768, 512, 64)         73792     ['concatenate_3[0][0]']       \n",
      "                                                                                                  \n",
      " batch_normalization_17 (Ba  (None, 768, 512, 64)         256       ['conv2d_17[0][0]']           \n",
      " tchNormalization)                                                                                \n",
      "                                                                                                  \n",
      " activation_17 (Activation)  (None, 768, 512, 64)         0         ['batch_normalization_17[0][0]\n",
      "                                                                    ']                            \n",
      "                                                                                                  \n",
      " conv2d_18 (Conv2D)          (None, 768, 512, 64)         36928     ['activation_17[0][0]']       \n",
      "                                                                                                  \n",
      " batch_normalization_18 (Ba  (None, 768, 512, 64)         256       ['conv2d_18[0][0]']           \n",
      " tchNormalization)                                                                                \n",
      "                                                                                                  \n",
      " activation_18 (Activation)  (None, 768, 512, 64)         0         ['batch_normalization_18[0][0]\n",
      "                                                                    ']                            \n",
      "                                                                                                  \n",
      " conv2d_19 (Conv2D)          (None, 768, 512, 1)          65        ['activation_18[0][0]']       \n",
      "                                                                                                  \n",
      "==================================================================================================\n",
      "Total params: 31055297 (118.47 MB)\n",
      "Trainable params: 31043521 (118.42 MB)\n",
      "Non-trainable params: 11776 (46.00 KB)\n",
      "__________________________________________________________________________________________________\n"
     ]
    }
   ],
   "source": [
    "model.summary()"
   ]
  },
  {
   "cell_type": "code",
   "execution_count": 24,
   "id": "71b8c935",
   "metadata": {},
   "outputs": [
    {
     "name": "stderr",
     "output_type": "stream",
     "text": [
      "WARNING:absl:At this time, the v2.11+ optimizer `tf.keras.optimizers.Adam` runs slowly on M1/M2 Macs, please use the legacy Keras optimizer instead, located at `tf.keras.optimizers.legacy.Adam`.\n",
      "WARNING:absl:There is a known slowdown when using v2.11+ Keras optimizers on M1/M2 Macs. Falling back to the legacy Keras optimizer, i.e., `tf.keras.optimizers.legacy.Adam`.\n"
     ]
    }
   ],
   "source": [
    "opt = tf.keras.optimizers.Adam(lr)\n",
    "model.compile(loss=\"binary_crossentropy\",optimizer=opt, metrics=[\"acc\"])\n"
   ]
  },
  {
   "cell_type": "code",
   "execution_count": 25,
   "id": "c3d23ba0",
   "metadata": {},
   "outputs": [],
   "source": [
    "callbacks = [\n",
    "    ModelCheckpoint(model_file, verbose=1, save_best_only=True),\n",
    "    ReduceLROnPlateau(monitor='val_loss', factor=0.1, patience=4),\n",
    "    CSVLogger(log_file),\n",
    "    EarlyStopping(monitor='val_loss', patience=20, restore_best_weights=False)\n",
    "\n",
    " ]"
   ]
  },
  {
   "cell_type": "code",
   "execution_count": null,
   "id": "384fa59e",
   "metadata": {},
   "outputs": [
    {
     "name": "stdout",
     "output_type": "stream",
     "text": [
      "Epoch 1/100\n",
      "8/8 [==============================] - ETA: 0s - loss: 0.7054 - acc: 0.5508  \n",
      "Epoch 1: val_loss improved from inf to 0.69555, saving model to files/non-aug/unet-non-aug.h5\n"
     ]
    },
    {
     "name": "stderr",
     "output_type": "stream",
     "text": [
      "/Users/taras_lara/anaconda3/lib/python3.10/site-packages/keras/src/engine/training.py:3000: UserWarning: You are saving your model as an HDF5 file via `model.save()`. This file format is considered legacy. We recommend using instead the native Keras format, e.g. `model.save('my_model.keras')`.\n",
      "  saving_api.save_model(\n"
     ]
    },
    {
     "name": "stdout",
     "output_type": "stream",
     "text": [
      "8/8 [==============================] - 1998s 251s/step - loss: 0.7054 - acc: 0.5508 - val_loss: 0.6955 - val_acc: 0.3481 - lr: 1.0000e-04\n",
      "Epoch 2/100\n",
      "8/8 [==============================] - ETA: 0s - loss: 0.6026 - acc: 0.7074  \n",
      "Epoch 2: val_loss did not improve from 0.69555\n",
      "8/8 [==============================] - 1873s 230s/step - loss: 0.6026 - acc: 0.7074 - val_loss: 0.6999 - val_acc: 0.2769 - lr: 1.0000e-04\n",
      "Epoch 3/100\n",
      "8/8 [==============================] - ETA: 0s - loss: 0.5255 - acc: 0.7650   \n",
      "Epoch 3: val_loss did not improve from 0.69555\n",
      "8/8 [==============================] - 10708s 1405s/step - loss: 0.5255 - acc: 0.7650 - val_loss: 0.7003 - val_acc: 0.3379 - lr: 1.0000e-04\n",
      "Epoch 4/100\n",
      "8/8 [==============================] - ETA: 0s - loss: 0.4559 - acc: 0.8198  \n",
      "Epoch 4: val_loss did not improve from 0.69555\n",
      "8/8 [==============================] - 1847s 226s/step - loss: 0.4559 - acc: 0.8198 - val_loss: 0.6959 - val_acc: 0.4833 - lr: 1.0000e-04\n",
      "Epoch 5/100\n",
      "8/8 [==============================] - ETA: 0s - loss: 0.4075 - acc: 0.8523  \n",
      "Epoch 5: val_loss improved from 0.69555 to 0.67650, saving model to files/non-aug/unet-non-aug.h5\n",
      "8/8 [==============================] - 1750s 217s/step - loss: 0.4075 - acc: 0.8523 - val_loss: 0.6765 - val_acc: 0.6646 - lr: 1.0000e-04\n",
      "Epoch 6/100\n",
      "8/8 [==============================] - ETA: 0s - loss: 0.3678 - acc: 0.8708  \n",
      "Epoch 6: val_loss improved from 0.67650 to 0.64680, saving model to files/non-aug/unet-non-aug.h5\n",
      "8/8 [==============================] - 1707s 207s/step - loss: 0.3678 - acc: 0.8708 - val_loss: 0.6468 - val_acc: 0.7650 - lr: 1.0000e-04\n",
      "Epoch 7/100\n",
      "8/8 [==============================] - ETA: 0s - loss: 0.3359 - acc: 0.8788  \n",
      "Epoch 7: val_loss improved from 0.64680 to 0.64167, saving model to files/non-aug/unet-non-aug.h5\n",
      "8/8 [==============================] - 1831s 226s/step - loss: 0.3359 - acc: 0.8788 - val_loss: 0.6417 - val_acc: 0.7611 - lr: 1.0000e-04\n",
      "Epoch 8/100\n",
      "8/8 [==============================] - ETA: 0s - loss: 0.2876 - acc: 0.9040  \n",
      "Epoch 8: val_loss improved from 0.64167 to 0.60281, saving model to files/non-aug/unet-non-aug.h5\n",
      "8/8 [==============================] - 1788s 217s/step - loss: 0.2876 - acc: 0.9040 - val_loss: 0.6028 - val_acc: 0.7740 - lr: 1.0000e-04\n",
      "Epoch 9/100\n",
      "8/8 [==============================] - ETA: 0s - loss: 0.2682 - acc: 0.9091  \n",
      "Epoch 9: val_loss improved from 0.60281 to 0.57515, saving model to files/non-aug/unet-non-aug.h5\n",
      "8/8 [==============================] - 1671s 208s/step - loss: 0.2682 - acc: 0.9091 - val_loss: 0.5751 - val_acc: 0.7760 - lr: 1.0000e-04\n",
      "Epoch 10/100\n",
      "8/8 [==============================] - ETA: 0s - loss: 0.2510 - acc: 0.9143  \n",
      "Epoch 10: val_loss improved from 0.57515 to 0.55403, saving model to files/non-aug/unet-non-aug.h5\n",
      "8/8 [==============================] - 1647s 203s/step - loss: 0.2510 - acc: 0.9143 - val_loss: 0.5540 - val_acc: 0.7778 - lr: 1.0000e-04\n",
      "Epoch 11/100\n",
      "8/8 [==============================] - ETA: 0s - loss: 0.2531 - acc: 0.9104  \n",
      "Epoch 11: val_loss improved from 0.55403 to 0.53729, saving model to files/non-aug/unet-non-aug.h5\n",
      "8/8 [==============================] - 1607s 199s/step - loss: 0.2531 - acc: 0.9104 - val_loss: 0.5373 - val_acc: 0.7784 - lr: 1.0000e-04\n",
      "Epoch 12/100\n",
      "8/8 [==============================] - ETA: 0s - loss: 0.2357 - acc: 0.9203  \n",
      "Epoch 12: val_loss did not improve from 0.53729\n",
      "8/8 [==============================] - 1757s 221s/step - loss: 0.2357 - acc: 0.9203 - val_loss: 0.6151 - val_acc: 0.7773 - lr: 1.0000e-04\n",
      "Epoch 13/100\n",
      "1/8 [==>...........................] - ETA: 22:10 - loss: 0.2062 - acc: 0.9393"
     ]
    }
   ],
   "source": [
    "model.fit(\n",
    "train_dataset,\n",
    "validation_data=valid_dataset,\n",
    "epochs=epochs,\n",
    "callbacks=callbacks\n",
    ")"
   ]
  },
  {
   "cell_type": "code",
   "execution_count": null,
   "id": "abd499ad",
   "metadata": {},
   "outputs": [],
   "source": []
  }
 ],
 "metadata": {
  "kernelspec": {
   "display_name": "Python 3 (ipykernel)",
   "language": "python",
   "name": "python3"
  },
  "language_info": {
   "codemirror_mode": {
    "name": "ipython",
    "version": 3
   },
   "file_extension": ".py",
   "mimetype": "text/x-python",
   "name": "python",
   "nbconvert_exporter": "python",
   "pygments_lexer": "ipython3",
   "version": "3.10.9"
  }
 },
 "nbformat": 4,
 "nbformat_minor": 5
}
