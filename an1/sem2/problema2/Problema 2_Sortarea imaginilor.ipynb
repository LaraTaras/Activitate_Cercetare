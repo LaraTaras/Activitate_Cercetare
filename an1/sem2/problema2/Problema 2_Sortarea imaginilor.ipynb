{
 "cells": [
  {
   "cell_type": "markdown",
   "id": "dabb1e31",
   "metadata": {},
   "source": [
    "## Sortarea imaginilor"
   ]
  },
  {
   "cell_type": "markdown",
   "id": "bd9d2523",
   "metadata": {},
   "source": [
    "### Import:"
   ]
  },
  {
   "cell_type": "code",
   "execution_count": 1,
   "id": "f8a1d95e",
   "metadata": {},
   "outputs": [],
   "source": [
    "import numpy as np\n",
    "import cv2\n",
    "from glob import glob\n",
    "from tqdm import tqdm"
   ]
  },
  {
   "cell_type": "markdown",
   "id": "37cf1a6c",
   "metadata": {},
   "source": [
    "### Filtrarea imaginilor: Dimensiunea"
   ]
  },
  {
   "cell_type": "code",
   "execution_count": 10,
   "id": "70dfac68",
   "metadata": {},
   "outputs": [],
   "source": [
    "def filter_images_by_size(images, min_size=768): #folosită pentru a declara o funcție\n",
    "    output = []\n",
    "    \n",
    "    for img in tqdm(images, total=len(images)):\n",
    "        x = cv2.imread(img, cv2.IMREAD_COLOR)\n",
    "        h, w, c = x.shape\n",
    "        \n",
    "        if h > min_size and w > min_size:\n",
    "            output.append(img)\n",
    "            \n",
    "    return output"
   ]
  },
  {
   "cell_type": "markdown",
   "id": "17eb8612",
   "metadata": {},
   "source": [
    "### Filtrarea imaginilor: Stil portret"
   ]
  },
  {
   "cell_type": "code",
   "execution_count": 17,
   "id": "73304aaa",
   "metadata": {},
   "outputs": [],
   "source": [
    "def filter_images_by_potrait(images):\n",
    "    output = []\n",
    "    \n",
    "    for img in tqdm(images, total=len(images)):\n",
    "        x = cv2.imread(img, cv2.IMREAD_COLOR)\n",
    "        \n",
    "        h, w, c = x.shape\n",
    "        if h > w:\n",
    "            output.append(img)\n",
    "            \n",
    "    return output"
   ]
  },
  {
   "cell_type": "markdown",
   "id": "9a7e70e0",
   "metadata": {},
   "source": [
    "### Redimensionarea și salvarea imaginilor"
   ]
  },
  {
   "cell_type": "code",
   "execution_count": 51,
   "id": "1dddf92f",
   "metadata": {},
   "outputs": [],
   "source": [
    "def save_images(images, save_dir, size=(768, 512)):\n",
    "    idx = 1\n",
    "    \n",
    "    for path in tqdm(images, total=len(images)):\n",
    "        x = cv2.imread(path, cv2.IMREAD_COLOR)\n",
    "        \n",
    "        scale = 26\n",
    "        h = int(x.shape[0] * scale/100)\n",
    "        w = int(x.shape[1] * scale/100)\n",
    "        x = cv2.resize(x, (w, h))\n",
    "\n",
    "        \n",
    "        if x.shape[0] > size[0] and x.shape[1] > size[1]:\n",
    "            x = x[0:size[0], 0:size[1], :]\n",
    "            \n",
    "            cv2.imwrite(f\"{save_dir}/{idx}.jpg\", x)\n",
    "            idx += 1\n",
    "        \n",
    "# Metoda schimba dimensiunile dar disproportioneaza imaginea       \n",
    "#        x = cv2.resize(x,(size[1], size[0])) # weight, height\n",
    "#        \n",
    "#        cv2.imwrite(f\"{save_dir}/{idx}.jpg\", x)\n",
    "#        idx += 1\n",
    "        "
   ]
  },
  {
   "cell_type": "markdown",
   "id": "0a750455",
   "metadata": {},
   "source": [
    "### Executarea programului "
   ]
  },
  {
   "cell_type": "code",
   "execution_count": 31,
   "id": "2b6df77c",
   "metadata": {},
   "outputs": [
    {
     "name": "stdout",
     "output_type": "stream",
     "text": [
      "Imaginile inițiale  1158\n"
     ]
    }
   ],
   "source": [
    "raw_images = glob(\"raw_images/*.jpg\")\n",
    "print(\"Imaginile inițiale \", len(raw_images))"
   ]
  },
  {
   "cell_type": "code",
   "execution_count": 32,
   "id": "bc1b2005",
   "metadata": {},
   "outputs": [
    {
     "name": "stderr",
     "output_type": "stream",
     "text": [
      "100%|███████████████████████████████████████| 1158/1158 [00:36<00:00, 32.05it/s]"
     ]
    },
    {
     "name": "stdout",
     "output_type": "stream",
     "text": [
      "Filter by size:  1149\n"
     ]
    },
    {
     "name": "stderr",
     "output_type": "stream",
     "text": [
      "\n"
     ]
    }
   ],
   "source": [
    "output = filter_images_by_size(raw_images, min_size=512)\n",
    "print(\"Filter by size: \", len(output))"
   ]
  },
  {
   "cell_type": "code",
   "execution_count": 33,
   "id": "2274fb51",
   "metadata": {},
   "outputs": [
    {
     "name": "stderr",
     "output_type": "stream",
     "text": [
      "100%|███████████████████████████████████████| 1149/1149 [00:36<00:00, 31.86it/s]"
     ]
    },
    {
     "name": "stdout",
     "output_type": "stream",
     "text": [
      "Filter by potrait:  664\n"
     ]
    },
    {
     "name": "stderr",
     "output_type": "stream",
     "text": [
      "\n"
     ]
    }
   ],
   "source": [
    "output = filter_images_by_potrait(output)\n",
    "print(\"Filter by potrait: \", len(output))"
   ]
  },
  {
   "cell_type": "code",
   "execution_count": 52,
   "id": "82c777d2",
   "metadata": {},
   "outputs": [
    {
     "name": "stderr",
     "output_type": "stream",
     "text": [
      "100%|█████████████████████████████████████████| 664/664 [00:29<00:00, 22.56it/s]\n"
     ]
    }
   ],
   "source": [
    "save_images(output, \"clean_images1\")"
   ]
  },
  {
   "cell_type": "code",
   "execution_count": 54,
   "id": "3145f35d",
   "metadata": {},
   "outputs": [
    {
     "name": "stdout",
     "output_type": "stream",
     "text": [
      "Clean Images:  514\n"
     ]
    }
   ],
   "source": [
    "clean_images = glob(\"clean_images1/*\")\n",
    "print(\"Clean Images: \", len(clean_images))"
   ]
  },
  {
   "cell_type": "code",
   "execution_count": null,
   "id": "ebcd66aa",
   "metadata": {},
   "outputs": [],
   "source": []
  }
 ],
 "metadata": {
  "kernelspec": {
   "display_name": "Python 3 (ipykernel)",
   "language": "python",
   "name": "python3"
  },
  "language_info": {
   "codemirror_mode": {
    "name": "ipython",
    "version": 3
   },
   "file_extension": ".py",
   "mimetype": "text/x-python",
   "name": "python",
   "nbconvert_exporter": "python",
   "pygments_lexer": "ipython3",
   "version": "3.10.9"
  }
 },
 "nbformat": 4,
 "nbformat_minor": 5
}
